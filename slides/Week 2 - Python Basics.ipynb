{
 "cells": [
  {
   "cell_type": "markdown",
   "metadata": {},
   "source": [
    "# Week 2 - Python basics\n",
    "\n",
    "More details of this week's content are in Python for Everybody Chapter 2, 3, 4, 5, 8, 9, 10. You don't have to be a master at everything at this point. Just get familiar with the basic syntax. You can always look things up later."
   ]
  },
  {
   "cell_type": "markdown",
   "metadata": {},
   "source": [
    "## 1. Values and types\n",
    "\n",
    "A value is one of the basic things a program works with, like a word (or words), a number (or numbers). Generally, a program takes some value(s), does something with it, and produces some output.\n",
    "Values belong to different types: 2 is an *integer*, and 'Hello, World!' is a *string* because it contains a string of letters. Strings are enclosed in quotation marks. Numbers with a decimal point belong to a type called *float* because these numbers are represented in a format called floating point."
   ]
  },
  {
   "cell_type": "code",
   "execution_count": 32,
   "metadata": {
    "scrolled": true
   },
   "outputs": [
    {
     "name": "stdout",
     "output_type": "stream",
     "text": [
      "4\n",
      "Hello, World!\n"
     ]
    }
   ],
   "source": [
    "print(4)       # This is a number\n",
    "print(\"Hello, World!\")    # This is a string"
   ]
  },
  {
   "cell_type": "markdown",
   "metadata": {},
   "source": [
    "## 2. Variables and types\n",
    "\n",
    "In programming, a variable is a name that refers to a value (or sometimes multiple values such as a list). Variables have different types due to the different types of values. For example, 2 is an integer and \"Hello world!\" is a string (note that a string is usually quoted, you can use either single or double quote in Python). To display the value of a variable, you can use print() function:"
   ]
  },
  {
   "cell_type": "code",
   "execution_count": 11,
   "metadata": {},
   "outputs": [
    {
     "name": "stdout",
     "output_type": "stream",
     "text": [
      "2\n"
     ]
    }
   ],
   "source": [
    "n = 2\n",
    "print(n)"
   ]
  },
  {
   "cell_type": "markdown",
   "metadata": {},
   "source": [
    "You can also use type() function to print out the type of the variable"
   ]
  },
  {
   "cell_type": "code",
   "execution_count": 41,
   "metadata": {},
   "outputs": [
    {
     "name": "stdout",
     "output_type": "stream",
     "text": [
      "<class 'int'>\n"
     ]
    }
   ],
   "source": [
    "print(type(n))"
   ]
  },
  {
   "cell_type": "markdown",
   "metadata": {},
   "source": [
    "Below is a float variable:"
   ]
  },
  {
   "cell_type": "code",
   "execution_count": 42,
   "metadata": {},
   "outputs": [
    {
     "name": "stdout",
     "output_type": "stream",
     "text": [
      "3.14159265\n",
      "<class 'float'>\n"
     ]
    }
   ],
   "source": [
    "pi = 3.14159265\n",
    "print(pi)\n",
    "print(type(pi))"
   ]
  },
  {
   "cell_type": "markdown",
   "metadata": {},
   "source": [
    "Now, let's try a string variable type:"
   ]
  },
  {
   "cell_type": "code",
   "execution_count": 43,
   "metadata": {},
   "outputs": [
    {
     "name": "stdout",
     "output_type": "stream",
     "text": [
      "Good morning, America!\n",
      "<class 'str'>\n"
     ]
    }
   ],
   "source": [
    "greeting = \"Good morning, America!\"\n",
    "print(greeting)\n",
    "print(type(greeting))"
   ]
  },
  {
   "cell_type": "markdown",
   "metadata": {},
   "source": [
    "## 3. Variable names\n",
    "\n",
    "It's a good idea to give meaningful names to your variables so that you know what the variable is for. Variable names can contain both letters and numbers, but they cannot start with a number. The underscore character '_' is commonly used to connect multiple words in a variable name, such as  last_name. Variable names are generally lowercase according to [PEP 8 - Style Guide for Python Code](https://www.python.org/dev/peps/pep-0008/). Python has [reserved keywords](https://www.programiz.com/python-programming/keyword-list) for special meaning in programs. These keywords cannot be used as variable names to avoid confusion. "
   ]
  },
  {
   "cell_type": "code",
   "execution_count": 35,
   "metadata": {},
   "outputs": [
    {
     "name": "stdout",
     "output_type": "stream",
     "text": [
      "My name is Kun Lu\n"
     ]
    }
   ],
   "source": [
    "first_name = 'Kun'\n",
    "last_name = 'Lu'\n",
    "print(\"My name is\", first_name, last_name)"
   ]
  },
  {
   "cell_type": "markdown",
   "metadata": {},
   "source": [
    "You can use type() function to check the type of the variable"
   ]
  },
  {
   "cell_type": "code",
   "execution_count": 40,
   "metadata": {},
   "outputs": [
    {
     "name": "stdout",
     "output_type": "stream",
     "text": [
      "<class 'str'>\n",
      "<class 'str'>\n"
     ]
    }
   ],
   "source": [
    "print(type(first_name))\n",
    "print(type(last_name))"
   ]
  },
  {
   "cell_type": "markdown",
   "metadata": {},
   "source": [
    "## 4. Statements\n",
    "\n",
    "A statement is a unit of code that Python interpreter can execute. A program/script usually contains a sequence of statements. The statements in a Python program will be executed sequentially by the interpreter."
   ]
  },
  {
   "cell_type": "code",
   "execution_count": 37,
   "metadata": {},
   "outputs": [
    {
     "name": "stdout",
     "output_type": "stream",
     "text": [
      "8\n"
     ]
    }
   ],
   "source": [
    "x = 2    # This statement assigns values 2 to variable x\n",
    "y = 4    # This statement assigns value 4 to variable y\n",
    "print(x*y)      # This statement prints the result of x times y"
   ]
  },
  {
   "cell_type": "markdown",
   "metadata": {},
   "source": [
    "## 5. Operators and operands\n",
    "\n",
    "Operators are special symbols for certain operations, such as addition (+), multiplication (\\*), subtraction (-), division (/), exponentiation (\\**), modulus (%). You can apply operators to variables or values. The values that the operator is applied to are called operands."
   ]
  },
  {
   "cell_type": "code",
   "execution_count": 45,
   "metadata": {},
   "outputs": [
    {
     "data": {
      "text/plain": [
       "25"
      ]
     },
     "execution_count": 45,
     "metadata": {},
     "output_type": "execute_result"
    }
   ],
   "source": [
    "5**2   # 5 to the power of 2"
   ]
  },
  {
   "cell_type": "code",
   "execution_count": 46,
   "metadata": {},
   "outputs": [
    {
     "data": {
      "text/plain": [
       "112"
      ]
     },
     "execution_count": 46,
     "metadata": {},
     "output_type": "execute_result"
    }
   ],
   "source": [
    "(5+9)*(15-7)    # calculation"
   ]
  },
  {
   "cell_type": "code",
   "execution_count": 47,
   "metadata": {},
   "outputs": [
    {
     "data": {
      "text/plain": [
       "'Kun Lu'"
      ]
     },
     "execution_count": 47,
     "metadata": {},
     "output_type": "execute_result"
    }
   ],
   "source": [
    "first_name + \" \" + last_name   # when + is used for strings, it concatenates the strings"
   ]
  },
  {
   "cell_type": "markdown",
   "metadata": {},
   "source": [
    "## 6. Expressions\n",
    "\n",
    "The combination of  values, variables, and operators is an expression. A value by itself is considered an expression, and so is a variable. The followings are all legal expressions:"
   ]
  },
  {
   "cell_type": "code",
   "execution_count": 48,
   "metadata": {},
   "outputs": [
    {
     "data": {
      "text/plain": [
       "'This is a string'"
      ]
     },
     "execution_count": 48,
     "metadata": {},
     "output_type": "execute_result"
    }
   ],
   "source": [
    "\"This is a string\""
   ]
  },
  {
   "cell_type": "code",
   "execution_count": 49,
   "metadata": {},
   "outputs": [
    {
     "data": {
      "text/plain": [
       "2"
      ]
     },
     "execution_count": 49,
     "metadata": {},
     "output_type": "execute_result"
    }
   ],
   "source": [
    "x"
   ]
  },
  {
   "cell_type": "code",
   "execution_count": 50,
   "metadata": {},
   "outputs": [
    {
     "data": {
      "text/plain": [
       "4"
      ]
     },
     "execution_count": 50,
     "metadata": {},
     "output_type": "execute_result"
    }
   ],
   "source": [
    "x + 2"
   ]
  },
  {
   "cell_type": "markdown",
   "metadata": {},
   "source": [
    "## 7. Order of operations\n",
    "\n",
    "When more than one operators appear in an expression, the order of evaluation depends on the rules of precedence. Python follows mathematical convention: Parentheses, Exponentiation, Multiplication/Division, Addition/Subtraction."
   ]
  },
  {
   "cell_type": "markdown",
   "metadata": {},
   "source": [
    "## 8. String operations\n",
    "\n",
    "This class will deal with strings a lot because text is represented in Python as strings. There are many operations for strings. The most common one is concatenation that joins the strings by linking them end to end.\n",
    "\n",
    "### String concatenation\n",
    "\n",
    "As shown above, when + is used with strings, it joins them by linking them end to end. It is different from mathematical operator addition."
   ]
  },
  {
   "cell_type": "code",
   "execution_count": 51,
   "metadata": {},
   "outputs": [
    {
     "name": "stdout",
     "output_type": "stream",
     "text": [
      "20\n"
     ]
    }
   ],
   "source": [
    "first = 10\n",
    "second = 10\n",
    "print(first+second)       # in this example, the two variables are numbers, so addition is applied"
   ]
  },
  {
   "cell_type": "code",
   "execution_count": 52,
   "metadata": {},
   "outputs": [
    {
     "name": "stdout",
     "output_type": "stream",
     "text": [
      "100150\n"
     ]
    }
   ],
   "source": [
    "first = '100'             # note that quotation marks tell this variable is a string rather than a number\n",
    "second = '150'            # note that quotation marks tell this variable is a string rather than a number\n",
    "print(first+second)       # the two variables are strings, concatenation is applied"
   ]
  },
  {
   "cell_type": "markdown",
   "metadata": {},
   "source": [
    "### String multiplication\n",
    "\n",
    "When * is used with strings, it multiplies the content of a string by an integer"
   ]
  },
  {
   "cell_type": "code",
   "execution_count": 53,
   "metadata": {},
   "outputs": [
    {
     "name": "stdout",
     "output_type": "stream",
     "text": [
      "TestTestTest\n"
     ]
    }
   ],
   "source": [
    "first = \"Test\"\n",
    "print(first*3)"
   ]
  },
  {
   "cell_type": "markdown",
   "metadata": {},
   "source": [
    "## 9. Ask user for input\n",
    "\n",
    "It is common to ask users for input and the program takes the user input to do something. Python has a built-in function call **input()** that gets input from the keyboard. When this function is called, the program pauses for the user to type in something. When the user hits Return or Enter, the program resumes and  input() returns what the user typed as a string."
   ]
  },
  {
   "cell_type": "code",
   "execution_count": 54,
   "metadata": {},
   "outputs": [
    {
     "name": "stdout",
     "output_type": "stream",
     "text": [
      "/home/kun/ipython-in-depth/soln\r\n"
     ]
    }
   ],
   "source": [
    "!pwd"
   ]
  },
  {
   "cell_type": "code",
   "execution_count": null,
   "metadata": {},
   "outputs": [],
   "source": []
  }
 ],
 "metadata": {
  "kernelspec": {
   "display_name": "Python 3",
   "language": "python",
   "name": "python3"
  },
  "language_info": {
   "codemirror_mode": {
    "name": "ipython",
    "version": 3
   },
   "file_extension": ".py",
   "mimetype": "text/x-python",
   "name": "python",
   "nbconvert_exporter": "python",
   "pygments_lexer": "ipython3",
   "version": "3.8.5"
  }
 },
 "nbformat": 4,
 "nbformat_minor": 4
}
